{
  "cells": [
    {
      "cell_type": "raw",
      "metadata": {},
      "source": [
        "---\n",
        "title: \"Research\"\n",
        "from: markdown+emoji\n",
        "---"
      ],
      "id": "92ca8997"
    },
    {
      "cell_type": "markdown",
      "metadata": {},
      "source": [
        "### **[Deep-learning-based least-squares migration](resources/Torres_Deep-LSRTM_2022.pdf){target=\"_blank\"}**\n",
        "Leveraging learned iterative reconstruction for LSRTM of synthetic and real seismic data.\n"
      ],
      "id": "021303a3"
    },
    {
      "cell_type": "code",
      "metadata": {},
      "source": [
        "from wand.image import Image as WImage\n",
        "img = WImage(filename='images/full_results.pdf', resolution=100) # bigger\n",
        "img"
      ],
      "id": "a3955c8c",
      "execution_count": null,
      "outputs": []
    },
    {
      "cell_type": "markdown",
      "metadata": {},
      "source": [
        "### <a href=\"https://kristiantorres.github.io/RWIQuarto/toy_rwigradient.html\" target=\"_blank\">Reflection waveform inversion</a>\n",
        "Spetial flavor of FWI that exploits the tenuous low-wavenumber :rabbit: reflection kernel to recover a macro velicity model from reflection data. \n",
        "\n",
        "### [A deep-learning inverse Hessian preconditioning](resources/EAGE_2023_preconditioning.pdf){target=\"_blank\"}\n",
        "A network trained from migrated and re-migrated data avoids dependance on unavailable ground-truth labels to roughly approximate the inverse Hessian and accelerate iterative LSM.\n",
        "\n",
        "### [Seismic inversion with nullspace networks](resources/Geophysical_prospecting_Torres_Sacchi_2022-3.pdf){target=\"_blank\"}\n",
        "Deep neural networks explore the null space of the forward operator, enabling data-consistent and uncertainty-aware high resolution reconstruction of post-stack data.   \n",
        "\n",
        "### <a href=\"resources/Reducing_the_RTM_backscattering_noise_via_F_KWD.pdf\" target=\"_blank\">Reducing RTM artefacts via $f-k$ domain wavefield decomposition</a>\n",
        "A simple implementation of frequency-wavenumber filtering to get rid of strong backscattering noise present in RTM sections.  \n",
        "\n",
        "### [Plane-wave FD modelling](https://nbviewer.org/github/kristiantorres/plane_wave/blob/master/Plane_wave/plane_wave_modelling.ipynb){target=\"_blank\"}\n",
        "Examples with Devito for acoustic and elastic media.\n",
        "\n",
        "### <a href=\"https://pantheon.ufrj.br/bitstream/11422/14079/1/KristianDavidTorresBautista-min.pdf\" target=\"_blank\">Master's thesis (in Portuguese)</a>.\n"
      ],
      "id": "458b2591"
    }
  ],
  "metadata": {
    "kernelspec": {
      "name": "python3",
      "language": "python",
      "display_name": "Python 3 (ipykernel)"
    }
  },
  "nbformat": 4,
  "nbformat_minor": 5
}